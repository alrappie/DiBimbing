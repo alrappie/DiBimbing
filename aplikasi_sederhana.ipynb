{
 "cells": [
  {
   "cell_type": "code",
   "execution_count": 51,
   "metadata": {},
   "outputs": [],
   "source": [
    "from orderProcessor import OrderProcessor\n",
    "from order import Order"
   ]
  },
  {
   "cell_type": "code",
   "execution_count": 52,
   "metadata": {},
   "outputs": [],
   "source": [
    "order_1 = Order(order_id='PWD123',customer_name='Ethan Collins',order_date=\"23-11-2024 13:45:10\",total_amount=30000)\n",
    "order_2 = Order(order_id='PWD456',customer_name='Sophia Ramirez',order_date=\"28-11-2024 23:41:54\",total_amount=35300)\n",
    "order_3 = Order(order_id='PWD789',customer_name='Liam Turner',order_date=\"01-12-2024 12:48:15\",total_amount=405000)\n",
    "order_4 = Order(order_id='PWF123',customer_name='Isabella Nguyen',order_date=\"13-11-2024 11:45:35\",total_amount=76400)\n",
    "order_5 = Order(order_id='PWF456',customer_name='Noah Patel',order_date=\"26-12-2024 08:44:27\",total_amount=123456)"
   ]
  },
  {
   "cell_type": "code",
   "execution_count": 53,
   "metadata": {},
   "outputs": [],
   "source": [
    "order_processor = OrderProcessor()"
   ]
  },
  {
   "cell_type": "code",
   "execution_count": 54,
   "metadata": {},
   "outputs": [],
   "source": [
    "order_processor.add_order(order_1)\n",
    "order_processor.add_order(order_2)\n",
    "order_processor.add_order(order_3)\n",
    "order_processor.add_order(order_4)\n",
    "order_processor.add_order(order_5)"
   ]
  },
  {
   "cell_type": "code",
   "execution_count": 57,
   "metadata": {},
   "outputs": [
    {
     "data": {
      "text/plain": [
       "670156"
      ]
     },
     "execution_count": 57,
     "metadata": {},
     "output_type": "execute_result"
    }
   ],
   "source": [
    "order_processor.calculate_total_revenue()"
   ]
  },
  {
   "cell_type": "code",
   "execution_count": 55,
   "metadata": {},
   "outputs": [
    {
     "data": {
      "text/plain": [
       "80418.72"
      ]
     },
     "execution_count": 55,
     "metadata": {},
     "output_type": "execute_result"
    }
   ],
   "source": [
    "order_processor.calculate_total_tax(12)"
   ]
  },
  {
   "cell_type": "code",
   "execution_count": 56,
   "metadata": {},
   "outputs": [
    {
     "name": "stdout",
     "output_type": "stream",
     "text": [
      "\n",
      "        ----------------------------------------\n",
      "        Detail Pesanan\n",
      "        ----------------------------------------\n",
      "        Order ID      : PWD123\n",
      "        Customer Name : Ethan Collins\n",
      "        Order Date    : 23-11-2024 13:45:10\n",
      "        Total Amount  : 30000\n",
      "        ----------------------------------------\n",
      "        \n",
      "\n",
      "        ----------------------------------------\n",
      "        Detail Pesanan\n",
      "        ----------------------------------------\n",
      "        Order ID      : PWD456\n",
      "        Customer Name : Sophia Ramirez\n",
      "        Order Date    : 28-11-2024 23:41:54\n",
      "        Total Amount  : 35300\n",
      "        ----------------------------------------\n",
      "        \n",
      "\n",
      "        ----------------------------------------\n",
      "        Detail Pesanan\n",
      "        ----------------------------------------\n",
      "        Order ID      : PWD789\n",
      "        Customer Name : Liam Turner\n",
      "        Order Date    : 01-12-2024 12:48:15\n",
      "        Total Amount  : 405000\n",
      "        ----------------------------------------\n",
      "        \n",
      "\n",
      "        ----------------------------------------\n",
      "        Detail Pesanan\n",
      "        ----------------------------------------\n",
      "        Order ID      : PWF123\n",
      "        Customer Name : Isabella Nguyen\n",
      "        Order Date    : 13-11-2024 11:45:35\n",
      "        Total Amount  : 76400\n",
      "        ----------------------------------------\n",
      "        \n",
      "\n",
      "        ----------------------------------------\n",
      "        Detail Pesanan\n",
      "        ----------------------------------------\n",
      "        Order ID      : PWF456\n",
      "        Customer Name : Noah Patel\n",
      "        Order Date    : 26-12-2024 08:44:27\n",
      "        Total Amount  : 123456\n",
      "        ----------------------------------------\n",
      "        \n"
     ]
    }
   ],
   "source": [
    "order_processor.display_order()"
   ]
  }
 ],
 "metadata": {
  "kernelspec": {
   "display_name": "base",
   "language": "python",
   "name": "python3"
  },
  "language_info": {
   "codemirror_mode": {
    "name": "ipython",
    "version": 3
   },
   "file_extension": ".py",
   "mimetype": "text/x-python",
   "name": "python",
   "nbconvert_exporter": "python",
   "pygments_lexer": "ipython3",
   "version": "3.9.7"
  }
 },
 "nbformat": 4,
 "nbformat_minor": 2
}
